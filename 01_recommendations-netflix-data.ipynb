{
 "cells": [
  {
   "attachments": {},
   "cell_type": "markdown",
   "metadata": {},
   "source": [
    "# 01. Content-Based Recommendations for Netflix Movies"
   ]
  },
  {
   "cell_type": "code",
   "execution_count": 2,
   "metadata": {},
   "outputs": [],
   "source": [
    "import pandas as pd\n",
    "import re\n",
    "import numpy as np\n",
    "from nltk.stem.wordnet import WordNetLemmatizer\n",
    "from sklearn.feature_extraction import _stop_words as stop_words\n",
    "from sklearn.feature_extraction.text import TfidfVectorizer\n",
    "from sklearn.metrics.pairwise import cosine_similarity as cosine\n",
    "from sklearn.feature_extraction.text import CountVectorizer\n",
    "import warnings\n",
    "warnings.filterwarnings('ignore')"
   ]
  },
  {
   "attachments": {},
   "cell_type": "markdown",
   "metadata": {},
   "source": [
    "## Loading Data\n",
    "\n",
    "The used dataset is 'Netflix Movies and TV Shows' from Shivam Bansal, published on Kaggle (can be found [here](https://www.kaggle.com/datasets/shivamb/netflix-shows))."
   ]
  },
  {
   "cell_type": "code",
   "execution_count": 3,
   "metadata": {},
   "outputs": [
    {
     "data": {
      "text/html": [
       "<div>\n",
       "<style scoped>\n",
       "    .dataframe tbody tr th:only-of-type {\n",
       "        vertical-align: middle;\n",
       "    }\n",
       "\n",
       "    .dataframe tbody tr th {\n",
       "        vertical-align: top;\n",
       "    }\n",
       "\n",
       "    .dataframe thead th {\n",
       "        text-align: right;\n",
       "    }\n",
       "</style>\n",
       "<table border=\"1\" class=\"dataframe\">\n",
       "  <thead>\n",
       "    <tr style=\"text-align: right;\">\n",
       "      <th></th>\n",
       "      <th>title</th>\n",
       "      <th>listed_in</th>\n",
       "      <th>director</th>\n",
       "      <th>cast</th>\n",
       "      <th>description</th>\n",
       "    </tr>\n",
       "  </thead>\n",
       "  <tbody>\n",
       "    <tr>\n",
       "      <th>0</th>\n",
       "      <td>Dick Johnson Is Dead</td>\n",
       "      <td>Documentaries</td>\n",
       "      <td>Kirsten Johnson</td>\n",
       "      <td>NaN</td>\n",
       "      <td>As her father nears the end of his life, filmm...</td>\n",
       "    </tr>\n",
       "    <tr>\n",
       "      <th>1</th>\n",
       "      <td>My Little Pony: A New Generation</td>\n",
       "      <td>Children &amp; Family Movies</td>\n",
       "      <td>Robert Cullen, José Luis Ucha</td>\n",
       "      <td>Vanessa Hudgens, Kimiko Glenn, James Marsden, ...</td>\n",
       "      <td>Equestria's divided. But a bright-eyed hero be...</td>\n",
       "    </tr>\n",
       "    <tr>\n",
       "      <th>2</th>\n",
       "      <td>Sankofa</td>\n",
       "      <td>Dramas, Independent Movies, International Movies</td>\n",
       "      <td>Haile Gerima</td>\n",
       "      <td>Kofi Ghanaba, Oyafunmike Ogunlano, Alexandra D...</td>\n",
       "      <td>On a photo shoot in Ghana, an American model s...</td>\n",
       "    </tr>\n",
       "    <tr>\n",
       "      <th>3</th>\n",
       "      <td>The Starling</td>\n",
       "      <td>Comedies, Dramas</td>\n",
       "      <td>Theodore Melfi</td>\n",
       "      <td>Melissa McCarthy, Chris O'Dowd, Kevin Kline, T...</td>\n",
       "      <td>A woman adjusting to life after a loss contend...</td>\n",
       "    </tr>\n",
       "    <tr>\n",
       "      <th>4</th>\n",
       "      <td>Je Suis Karl</td>\n",
       "      <td>Dramas, International Movies</td>\n",
       "      <td>Christian Schwochow</td>\n",
       "      <td>Luna Wedler, Jannis Niewöhner, Milan Peschel, ...</td>\n",
       "      <td>After most of her family is murdered in a terr...</td>\n",
       "    </tr>\n",
       "    <tr>\n",
       "      <th>...</th>\n",
       "      <td>...</td>\n",
       "      <td>...</td>\n",
       "      <td>...</td>\n",
       "      <td>...</td>\n",
       "      <td>...</td>\n",
       "    </tr>\n",
       "    <tr>\n",
       "      <th>6126</th>\n",
       "      <td>Zinzana</td>\n",
       "      <td>Dramas, International Movies, Thrillers</td>\n",
       "      <td>Majid Al Ansari</td>\n",
       "      <td>Ali Suliman, Saleh Bakri, Yasa, Ali Al-Jabri, ...</td>\n",
       "      <td>Recovering alcoholic Talal wakes up inside a s...</td>\n",
       "    </tr>\n",
       "    <tr>\n",
       "      <th>6127</th>\n",
       "      <td>Zodiac</td>\n",
       "      <td>Cult Movies, Dramas, Thrillers</td>\n",
       "      <td>David Fincher</td>\n",
       "      <td>Mark Ruffalo, Jake Gyllenhaal, Robert Downey J...</td>\n",
       "      <td>A political cartoonist, a crime reporter and a...</td>\n",
       "    </tr>\n",
       "    <tr>\n",
       "      <th>6128</th>\n",
       "      <td>Zombieland</td>\n",
       "      <td>Comedies, Horror Movies</td>\n",
       "      <td>Ruben Fleischer</td>\n",
       "      <td>Jesse Eisenberg, Woody Harrelson, Emma Stone, ...</td>\n",
       "      <td>Looking to survive in a world taken over by zo...</td>\n",
       "    </tr>\n",
       "    <tr>\n",
       "      <th>6129</th>\n",
       "      <td>Zoom</td>\n",
       "      <td>Children &amp; Family Movies, Comedies</td>\n",
       "      <td>Peter Hewitt</td>\n",
       "      <td>Tim Allen, Courteney Cox, Chevy Chase, Kate Ma...</td>\n",
       "      <td>Dragged from civilian life, a former superhero...</td>\n",
       "    </tr>\n",
       "    <tr>\n",
       "      <th>6130</th>\n",
       "      <td>Zubaan</td>\n",
       "      <td>Dramas, International Movies, Music &amp; Musicals</td>\n",
       "      <td>Mozez Singh</td>\n",
       "      <td>Vicky Kaushal, Sarah-Jane Dias, Raaghav Chanan...</td>\n",
       "      <td>A scrappy but poor boy worms his way into a ty...</td>\n",
       "    </tr>\n",
       "  </tbody>\n",
       "</table>\n",
       "<p>6131 rows × 5 columns</p>\n",
       "</div>"
      ],
      "text/plain": [
       "                                 title  \\\n",
       "0                 Dick Johnson Is Dead   \n",
       "1     My Little Pony: A New Generation   \n",
       "2                              Sankofa   \n",
       "3                         The Starling   \n",
       "4                         Je Suis Karl   \n",
       "...                                ...   \n",
       "6126                           Zinzana   \n",
       "6127                            Zodiac   \n",
       "6128                        Zombieland   \n",
       "6129                              Zoom   \n",
       "6130                            Zubaan   \n",
       "\n",
       "                                             listed_in  \\\n",
       "0                                        Documentaries   \n",
       "1                             Children & Family Movies   \n",
       "2     Dramas, Independent Movies, International Movies   \n",
       "3                                     Comedies, Dramas   \n",
       "4                         Dramas, International Movies   \n",
       "...                                                ...   \n",
       "6126           Dramas, International Movies, Thrillers   \n",
       "6127                    Cult Movies, Dramas, Thrillers   \n",
       "6128                           Comedies, Horror Movies   \n",
       "6129                Children & Family Movies, Comedies   \n",
       "6130    Dramas, International Movies, Music & Musicals   \n",
       "\n",
       "                           director  \\\n",
       "0                   Kirsten Johnson   \n",
       "1     Robert Cullen, José Luis Ucha   \n",
       "2                      Haile Gerima   \n",
       "3                    Theodore Melfi   \n",
       "4               Christian Schwochow   \n",
       "...                             ...   \n",
       "6126                Majid Al Ansari   \n",
       "6127                  David Fincher   \n",
       "6128                Ruben Fleischer   \n",
       "6129                   Peter Hewitt   \n",
       "6130                    Mozez Singh   \n",
       "\n",
       "                                                   cast  \\\n",
       "0                                                   NaN   \n",
       "1     Vanessa Hudgens, Kimiko Glenn, James Marsden, ...   \n",
       "2     Kofi Ghanaba, Oyafunmike Ogunlano, Alexandra D...   \n",
       "3     Melissa McCarthy, Chris O'Dowd, Kevin Kline, T...   \n",
       "4     Luna Wedler, Jannis Niewöhner, Milan Peschel, ...   \n",
       "...                                                 ...   \n",
       "6126  Ali Suliman, Saleh Bakri, Yasa, Ali Al-Jabri, ...   \n",
       "6127  Mark Ruffalo, Jake Gyllenhaal, Robert Downey J...   \n",
       "6128  Jesse Eisenberg, Woody Harrelson, Emma Stone, ...   \n",
       "6129  Tim Allen, Courteney Cox, Chevy Chase, Kate Ma...   \n",
       "6130  Vicky Kaushal, Sarah-Jane Dias, Raaghav Chanan...   \n",
       "\n",
       "                                            description  \n",
       "0     As her father nears the end of his life, filmm...  \n",
       "1     Equestria's divided. But a bright-eyed hero be...  \n",
       "2     On a photo shoot in Ghana, an American model s...  \n",
       "3     A woman adjusting to life after a loss contend...  \n",
       "4     After most of her family is murdered in a terr...  \n",
       "...                                                 ...  \n",
       "6126  Recovering alcoholic Talal wakes up inside a s...  \n",
       "6127  A political cartoonist, a crime reporter and a...  \n",
       "6128  Looking to survive in a world taken over by zo...  \n",
       "6129  Dragged from civilian life, a former superhero...  \n",
       "6130  A scrappy but poor boy worms his way into a ty...  \n",
       "\n",
       "[6131 rows x 5 columns]"
      ]
     },
     "execution_count": 3,
     "metadata": {},
     "output_type": "execute_result"
    }
   ],
   "source": [
    "#Load data\n",
    "df = pd.read_csv('data/netflix_titles.csv')\n",
    "#Only keep movies, get rid of TV shows\n",
    "df = df.loc[df['type'] == 'Movie'].reset_index(drop=True)\n",
    "#only keep the columns we're interested in\n",
    "df = df[['title','listed_in','director','cast','description']]\n",
    "df"
   ]
  },
  {
   "cell_type": "code",
   "execution_count": 4,
   "metadata": {},
   "outputs": [
    {
     "data": {
      "text/plain": [
       "title            0\n",
       "listed_in        0\n",
       "director       188\n",
       "cast           475\n",
       "description      0\n",
       "dtype: int64"
      ]
     },
     "execution_count": 4,
     "metadata": {},
     "output_type": "execute_result"
    }
   ],
   "source": [
    "#Check if columns have NaN values\n",
    "df.isna().sum()"
   ]
  },
  {
   "cell_type": "code",
   "execution_count": 5,
   "metadata": {},
   "outputs": [],
   "source": [
    "#Uncomment to delete rows with NaN values\n",
    "#df = df.dropna().reset_index(drop=True)"
   ]
  },
  {
   "attachments": {},
   "cell_type": "markdown",
   "metadata": {},
   "source": [
    "## Recommendations based on the movie descriptions\n",
    "As a first step, I wanted to see how the recommendations would turn out if only the descriptions were used to generate them."
   ]
  },
  {
   "attachments": {},
   "cell_type": "markdown",
   "metadata": {},
   "source": [
    "### TFIDF\n",
    "To do this, I needed some kind of numerical representation of the film descriptions so that I can compare them. I decided to use TF-IDF to achieve this."
   ]
  },
  {
   "cell_type": "code",
   "execution_count": 6,
   "metadata": {},
   "outputs": [],
   "source": [
    "#Define Tokeniser\n",
    "lem = WordNetLemmatizer()\n",
    "def my_tokeniser(doc):\n",
    "    tokens = re.split(r'[-\\s.,;!?:()]+', doc)\n",
    "    return [lem.lemmatize(t.lower()) for t in tokens if not t.lower() in stop_words.ENGLISH_STOP_WORDS]"
   ]
  },
  {
   "cell_type": "code",
   "execution_count": 7,
   "metadata": {},
   "outputs": [
    {
     "data": {
      "text/plain": [
       "(6131, 14902)"
      ]
     },
     "execution_count": 7,
     "metadata": {},
     "output_type": "execute_result"
    }
   ],
   "source": [
    "#Get TFIDF vectors\n",
    "tfidf_vectoriser = TfidfVectorizer(tokenizer=my_tokeniser)\n",
    "tfidf = tfidf_vectoriser.fit_transform(df[\"description\"])\n",
    "tfidf.shape"
   ]
  },
  {
   "attachments": {},
   "cell_type": "markdown",
   "metadata": {},
   "source": [
    "### Get Recommendations"
   ]
  },
  {
   "cell_type": "code",
   "execution_count": 8,
   "metadata": {},
   "outputs": [
    {
     "data": {
      "text/plain": [
       "(6131, 6131)"
      ]
     },
     "execution_count": 8,
     "metadata": {},
     "output_type": "execute_result"
    }
   ],
   "source": [
    "#Calculate cosine similarity between all movies\n",
    "similarities = cosine(tfidf)\n",
    "similarities = pd.DataFrame(similarities, columns = df[\"title\"], index = df[\"title\"])\n",
    "similarities.shape"
   ]
  },
  {
   "cell_type": "code",
   "execution_count": 9,
   "metadata": {},
   "outputs": [],
   "source": [
    "pd.set_option(\"display.max_colwidth\", None) #to display the full movie descriptions later on\n",
    "\n",
    "#Function to get recommendations and corresponding descriptions\n",
    "def get_recommendations (title, n):\n",
    "    #get the recommendations\n",
    "    recommendation = similarities.sort_values(by = title, ascending=False)[title].index[1:n+1]\n",
    "    #print description of the seed movie\n",
    "    print('SEED MOVIE DESCRIPTION:',df.loc[df['title'] == title][['description']])\n",
    "    #get titles & descriptions from df for the recommended movie titles\n",
    "    df_recommendation = df.loc[df['title'].isin(recommendation)][['title','description', 'listed_in']]\n",
    "    #sort titles by order of recommendation (so that the first title in the displayed df is also the first recommendation)\n",
    "    df_recommendation['title'] = pd.Categorical(df_recommendation['title'], recommendation)\n",
    "    print('\\nRECOMMENDED MOVIES:')\n",
    "    return df_recommendation.sort_values(\"title\") "
   ]
  },
  {
   "attachments": {},
   "cell_type": "markdown",
   "metadata": {},
   "source": [
    "#### For Kung Fu Panda"
   ]
  },
  {
   "cell_type": "code",
   "execution_count": 10,
   "metadata": {},
   "outputs": [
    {
     "name": "stdout",
     "output_type": "stream",
     "text": [
      "SEED MOVIE DESCRIPTION:                                                                                                                                            description\n",
      "364  When a powerful villain comes after peace in his valley, a lazy panda rises to the challenge to realize his destiny and become a kung fu warrior.\n",
      "\n",
      "RECOMMENDED MOVIES:\n"
     ]
    },
    {
     "data": {
      "text/html": [
       "<div>\n",
       "<style scoped>\n",
       "    .dataframe tbody tr th:only-of-type {\n",
       "        vertical-align: middle;\n",
       "    }\n",
       "\n",
       "    .dataframe tbody tr th {\n",
       "        vertical-align: top;\n",
       "    }\n",
       "\n",
       "    .dataframe thead th {\n",
       "        text-align: right;\n",
       "    }\n",
       "</style>\n",
       "<table border=\"1\" class=\"dataframe\">\n",
       "  <thead>\n",
       "    <tr style=\"text-align: right;\">\n",
       "      <th></th>\n",
       "      <th>title</th>\n",
       "      <th>description</th>\n",
       "      <th>listed_in</th>\n",
       "    </tr>\n",
       "  </thead>\n",
       "  <tbody>\n",
       "    <tr>\n",
       "      <th>4961</th>\n",
       "      <td>Love on Delivery</td>\n",
       "      <td>To prove himself to a love interest, a delivery boy learns dubious kung fu from an aging charlatan so he can challenge his archrival to a fight.</td>\n",
       "      <td>Action &amp; Adventure, Comedies, International Movies</td>\n",
       "    </tr>\n",
       "    <tr>\n",
       "      <th>4883</th>\n",
       "      <td>Kung Fu Magoo</td>\n",
       "      <td>Shortsighted curmudgeon Mr. Magoo and his young nephew, Justin, fight such nefarious foes as kung fu villains, robot spiders and teenage mutants.</td>\n",
       "      <td>Children &amp; Family Movies, Comedies</td>\n",
       "    </tr>\n",
       "    <tr>\n",
       "      <th>5719</th>\n",
       "      <td>The Five Venoms</td>\n",
       "      <td>A dying kung fu master sends his last student to track down five former pupils in order to learn which one of them has become evil.</td>\n",
       "      <td>Action &amp; Adventure, Cult Movies, International Movies</td>\n",
       "    </tr>\n",
       "    <tr>\n",
       "      <th>3777</th>\n",
       "      <td>Kung Fu Panda: Secrets of the Scroll</td>\n",
       "      <td>When a twist of fate brings five unlikely animals together, they find that combining their unique kung fu styles as a team makes the perfect weapon!</td>\n",
       "      <td>Children &amp; Family Movies, Comedies</td>\n",
       "    </tr>\n",
       "    <tr>\n",
       "      <th>4993</th>\n",
       "      <td>Man of Tai Chi</td>\n",
       "      <td>In this kung fu tale set in Beijing, a young man armed with incomparable martial arts skills gets embroiled in the world of underground fight clubs.</td>\n",
       "      <td>Action &amp; Adventure, Dramas</td>\n",
       "    </tr>\n",
       "  </tbody>\n",
       "</table>\n",
       "</div>"
      ],
      "text/plain": [
       "                                     title  \\\n",
       "4961                      Love on Delivery   \n",
       "4883                         Kung Fu Magoo   \n",
       "5719                       The Five Venoms   \n",
       "3777  Kung Fu Panda: Secrets of the Scroll   \n",
       "4993                        Man of Tai Chi   \n",
       "\n",
       "                                                                                                                                               description  \\\n",
       "4961      To prove himself to a love interest, a delivery boy learns dubious kung fu from an aging charlatan so he can challenge his archrival to a fight.   \n",
       "4883     Shortsighted curmudgeon Mr. Magoo and his young nephew, Justin, fight such nefarious foes as kung fu villains, robot spiders and teenage mutants.   \n",
       "5719                   A dying kung fu master sends his last student to track down five former pupils in order to learn which one of them has become evil.   \n",
       "3777  When a twist of fate brings five unlikely animals together, they find that combining their unique kung fu styles as a team makes the perfect weapon!   \n",
       "4993  In this kung fu tale set in Beijing, a young man armed with incomparable martial arts skills gets embroiled in the world of underground fight clubs.   \n",
       "\n",
       "                                                  listed_in  \n",
       "4961     Action & Adventure, Comedies, International Movies  \n",
       "4883                     Children & Family Movies, Comedies  \n",
       "5719  Action & Adventure, Cult Movies, International Movies  \n",
       "3777                     Children & Family Movies, Comedies  \n",
       "4993                             Action & Adventure, Dramas  "
      ]
     },
     "execution_count": 10,
     "metadata": {},
     "output_type": "execute_result"
    }
   ],
   "source": [
    "get_recommendations(\"Kung Fu Panda\", 5)"
   ]
  },
  {
   "attachments": {},
   "cell_type": "markdown",
   "metadata": {},
   "source": [
    "All the recommended movies have to do with Kung Fu in some way, and this theme has definitely been correctly identified. However, \"Kung Fu Panda\" is an animated film for children, thus \"Kung Fu Magoo\" and \"Kung Fu Panda: Secrets of the Scroll\" are good recommendations, while the other three films are action films that are more aimed towards adults."
   ]
  },
  {
   "attachments": {},
   "cell_type": "markdown",
   "metadata": {},
   "source": [
    "#### For Charlie and the Chocolate Factory:"
   ]
  },
  {
   "cell_type": "code",
   "execution_count": 11,
   "metadata": {},
   "outputs": [
    {
     "name": "stdout",
     "output_type": "stream",
     "text": [
      "SEED MOVIE DESCRIPTION:                                                                                                                                   description\n",
      "4262  The eccentric Willy Wonka opens the doors of his candy factory to five lucky kids who learn the secrets behind his amazing confections.\n",
      "\n",
      "RECOMMENDED MOVIES:\n"
     ]
    },
    {
     "data": {
      "text/html": [
       "<div>\n",
       "<style scoped>\n",
       "    .dataframe tbody tr th:only-of-type {\n",
       "        vertical-align: middle;\n",
       "    }\n",
       "\n",
       "    .dataframe tbody tr th {\n",
       "        vertical-align: top;\n",
       "    }\n",
       "\n",
       "    .dataframe thead th {\n",
       "        text-align: right;\n",
       "    }\n",
       "</style>\n",
       "<table border=\"1\" class=\"dataframe\">\n",
       "  <thead>\n",
       "    <tr style=\"text-align: right;\">\n",
       "      <th></th>\n",
       "      <th>title</th>\n",
       "      <th>description</th>\n",
       "      <th>listed_in</th>\n",
       "    </tr>\n",
       "  </thead>\n",
       "  <tbody>\n",
       "    <tr>\n",
       "      <th>6082</th>\n",
       "      <td>Willy Wonka &amp; the Chocolate Factory</td>\n",
       "      <td>Zany Willy Wonka causes a stir when he announces that golden tickets hidden inside his candy bars will admit holders into his secret confectionary.</td>\n",
       "      <td>Children &amp; Family Movies, Classic Movies, Comedies</td>\n",
       "    </tr>\n",
       "    <tr>\n",
       "      <th>5479</th>\n",
       "      <td>Shorgul</td>\n",
       "      <td>A Hindu boy's feelings for a Muslim girl expose the tensions between their two communities and open the door to chaos and violence.</td>\n",
       "      <td>Dramas, International Movies</td>\n",
       "    </tr>\n",
       "    <tr>\n",
       "      <th>4137</th>\n",
       "      <td>Best Neighbors</td>\n",
       "      <td>A just-married couple moves into their new home, finding themselves at war with the kids next door, who seem determined to make their lives miserable.</td>\n",
       "      <td>Comedies, International Movies</td>\n",
       "    </tr>\n",
       "    <tr>\n",
       "      <th>1981</th>\n",
       "      <td>A Ghost Story</td>\n",
       "      <td>Following a fatal car crash, a man's spirit remains stuck in the home he shared with his wife as doors into the past and future begin to open.</td>\n",
       "      <td>Dramas, Independent Movies</td>\n",
       "    </tr>\n",
       "    <tr>\n",
       "      <th>3216</th>\n",
       "      <td>Dil Se</td>\n",
       "      <td>A radio broadcaster's intense attraction to a mysterious woman opens the door to a tidal wave of powerful emotions and desires.</td>\n",
       "      <td>Dramas, International Movies, Romantic Movies</td>\n",
       "    </tr>\n",
       "  </tbody>\n",
       "</table>\n",
       "</div>"
      ],
      "text/plain": [
       "                                    title  \\\n",
       "6082  Willy Wonka & the Chocolate Factory   \n",
       "5479                              Shorgul   \n",
       "4137                       Best Neighbors   \n",
       "1981                        A Ghost Story   \n",
       "3216                               Dil Se   \n",
       "\n",
       "                                                                                                                                                 description  \\\n",
       "6082     Zany Willy Wonka causes a stir when he announces that golden tickets hidden inside his candy bars will admit holders into his secret confectionary.   \n",
       "5479                     A Hindu boy's feelings for a Muslim girl expose the tensions between their two communities and open the door to chaos and violence.   \n",
       "4137  A just-married couple moves into their new home, finding themselves at war with the kids next door, who seem determined to make their lives miserable.   \n",
       "1981          Following a fatal car crash, a man's spirit remains stuck in the home he shared with his wife as doors into the past and future begin to open.   \n",
       "3216                         A radio broadcaster's intense attraction to a mysterious woman opens the door to a tidal wave of powerful emotions and desires.   \n",
       "\n",
       "                                               listed_in  \n",
       "6082  Children & Family Movies, Classic Movies, Comedies  \n",
       "5479                        Dramas, International Movies  \n",
       "4137                      Comedies, International Movies  \n",
       "1981                          Dramas, Independent Movies  \n",
       "3216       Dramas, International Movies, Romantic Movies  "
      ]
     },
     "execution_count": 11,
     "metadata": {},
     "output_type": "execute_result"
    }
   ],
   "source": [
    "get_recommendations(\"Charlie and the Chocolate Factory\", 5)"
   ]
  },
  {
   "attachments": {},
   "cell_type": "markdown",
   "metadata": {},
   "source": [
    "Here you can see the disadvantages of this method: \"Shorgul\" was probably recommended because the words \"open\" and \"door\" appear in its description, as they do in the seed film. Otherwise, these two films have nothing in common. The same applies to the other films; only \"Willy Wonka and the Chocolate Factory\" is a good recommendation."
   ]
  },
  {
   "attachments": {},
   "cell_type": "markdown",
   "metadata": {},
   "source": [
    "#### For The Lord of the Rings"
   ]
  },
  {
   "cell_type": "code",
   "execution_count": 12,
   "metadata": {},
   "outputs": [
    {
     "name": "stdout",
     "output_type": "stream",
     "text": [
      "SEED MOVIE DESCRIPTION:                                                                                                                                        description\n",
      "5801  Frodo and Sam head to Mordor to destroy the One Ring of Power while Gimli, Legolas and Aragorn search for the orc-captured Merry and Pippin.\n",
      "\n",
      "RECOMMENDED MOVIES:\n"
     ]
    },
    {
     "data": {
      "text/html": [
       "<div>\n",
       "<style scoped>\n",
       "    .dataframe tbody tr th:only-of-type {\n",
       "        vertical-align: middle;\n",
       "    }\n",
       "\n",
       "    .dataframe tbody tr th {\n",
       "        vertical-align: top;\n",
       "    }\n",
       "\n",
       "    .dataframe thead th {\n",
       "        text-align: right;\n",
       "    }\n",
       "</style>\n",
       "<table border=\"1\" class=\"dataframe\">\n",
       "  <thead>\n",
       "    <tr style=\"text-align: right;\">\n",
       "      <th></th>\n",
       "      <th>title</th>\n",
       "      <th>description</th>\n",
       "      <th>listed_in</th>\n",
       "    </tr>\n",
       "  </thead>\n",
       "  <tbody>\n",
       "    <tr>\n",
       "      <th>3565</th>\n",
       "      <td>Elaan</td>\n",
       "      <td>Journalist Naresh is hired to probe illegal activities on an island. When he's captured, a fellow prisoner gives him a ring with magic powers.</td>\n",
       "      <td>Action &amp; Adventure, Cult Movies, International Movies</td>\n",
       "    </tr>\n",
       "    <tr>\n",
       "      <th>5959</th>\n",
       "      <td>Tom and Jerry: The Magic Ring</td>\n",
       "      <td>When a young wizard leaves Tom to guard his priceless magic ring, Jerry gets the ring stuck on his head, igniting a series of slapstick antics.</td>\n",
       "      <td>Children &amp; Family Movies, Comedies</td>\n",
       "    </tr>\n",
       "    <tr>\n",
       "      <th>5800</th>\n",
       "      <td>The Lord of the Rings: The Return of the King</td>\n",
       "      <td>Aragorn is revealed as the heir to the ancient kings as he, Gandalf and the other members of the broken fellowship struggle to save Gondor.</td>\n",
       "      <td>Action &amp; Adventure, Sci-Fi &amp; Fantasy</td>\n",
       "    </tr>\n",
       "    <tr>\n",
       "      <th>230</th>\n",
       "      <td>The Losers</td>\n",
       "      <td>After a search-and-destroy mission leads to betrayal, an elite black ops squad seeks revenge. But they must remain deep undercover to even the score.</td>\n",
       "      <td>Action &amp; Adventure</td>\n",
       "    </tr>\n",
       "    <tr>\n",
       "      <th>3305</th>\n",
       "      <td>Jab Harry Met Sejal</td>\n",
       "      <td>A philandering tour guide in Europe begins to develop feelings for one of his clients while helping her search for her lost engagement ring.</td>\n",
       "      <td>Comedies, International Movies, Romantic Movies</td>\n",
       "    </tr>\n",
       "  </tbody>\n",
       "</table>\n",
       "</div>"
      ],
      "text/plain": [
       "                                              title  \\\n",
       "3565                                          Elaan   \n",
       "5959                  Tom and Jerry: The Magic Ring   \n",
       "5800  The Lord of the Rings: The Return of the King   \n",
       "230                                      The Losers   \n",
       "3305                            Jab Harry Met Sejal   \n",
       "\n",
       "                                                                                                                                                description  \\\n",
       "3565         Journalist Naresh is hired to probe illegal activities on an island. When he's captured, a fellow prisoner gives him a ring with magic powers.   \n",
       "5959        When a young wizard leaves Tom to guard his priceless magic ring, Jerry gets the ring stuck on his head, igniting a series of slapstick antics.   \n",
       "5800            Aragorn is revealed as the heir to the ancient kings as he, Gandalf and the other members of the broken fellowship struggle to save Gondor.   \n",
       "230   After a search-and-destroy mission leads to betrayal, an elite black ops squad seeks revenge. But they must remain deep undercover to even the score.   \n",
       "3305           A philandering tour guide in Europe begins to develop feelings for one of his clients while helping her search for her lost engagement ring.   \n",
       "\n",
       "                                                  listed_in  \n",
       "3565  Action & Adventure, Cult Movies, International Movies  \n",
       "5959                     Children & Family Movies, Comedies  \n",
       "5800                   Action & Adventure, Sci-Fi & Fantasy  \n",
       "230                                      Action & Adventure  \n",
       "3305        Comedies, International Movies, Romantic Movies  "
      ]
     },
     "execution_count": 12,
     "metadata": {},
     "output_type": "execute_result"
    }
   ],
   "source": [
    "get_recommendations('The Lord of the Rings: The Two Towers', 5)"
   ]
  },
  {
   "attachments": {},
   "cell_type": "markdown",
   "metadata": {},
   "source": [
    "We can observe the same phenomenon as before: For example, it seems like \"Elaan\" was only recommended because the description includes the words \"ring\" and \"power\".\n",
    "\n",
    "\"The Lord of the Rings: The Return of the King\" is the only recommendation in this list that actually makes sense."
   ]
  },
  {
   "attachments": {},
   "cell_type": "markdown",
   "metadata": {},
   "source": [
    "It would be interesting to see if this behaviour (two words evoking a similarity even though the story is completely different) changes if we use a larger body of text, e.g. the movie subtitles. Since there would then be more words to compare, we would probably get better recommendations.\n",
    "\n",
    "So I decided to download the corresponding subtitles and explore this in a second notebook. But first, let's try a few more things with the dataset we already have."
   ]
  },
  {
   "attachments": {},
   "cell_type": "markdown",
   "metadata": {},
   "source": [
    "___\n",
    "\n",
    "## Recommendations based on other properties (genre, director and cast)\n",
    "Let's see how the recommendations change when we use the mentioned properties."
   ]
  },
  {
   "cell_type": "code",
   "execution_count": 13,
   "metadata": {},
   "outputs": [],
   "source": [
    "#replace NaN values in df with empty strings\n",
    "df_new = df.fillna('')"
   ]
  },
  {
   "cell_type": "code",
   "execution_count": 14,
   "metadata": {},
   "outputs": [
    {
     "data": {
      "text/html": [
       "<div>\n",
       "<style scoped>\n",
       "    .dataframe tbody tr th:only-of-type {\n",
       "        vertical-align: middle;\n",
       "    }\n",
       "\n",
       "    .dataframe tbody tr th {\n",
       "        vertical-align: top;\n",
       "    }\n",
       "\n",
       "    .dataframe thead th {\n",
       "        text-align: right;\n",
       "    }\n",
       "</style>\n",
       "<table border=\"1\" class=\"dataframe\">\n",
       "  <thead>\n",
       "    <tr style=\"text-align: right;\">\n",
       "      <th></th>\n",
       "      <th>title</th>\n",
       "      <th>listed_in</th>\n",
       "      <th>director</th>\n",
       "      <th>cast</th>\n",
       "      <th>description</th>\n",
       "    </tr>\n",
       "  </thead>\n",
       "  <tbody>\n",
       "    <tr>\n",
       "      <th>0</th>\n",
       "      <td>Dick Johnson Is Dead</td>\n",
       "      <td>documentaries</td>\n",
       "      <td>kirstenjohnson</td>\n",
       "      <td></td>\n",
       "      <td>As her father nears the end of his life, filmmaker Kirsten Johnson stages his death in inventive and comical ways to help them both face the inevitable.</td>\n",
       "    </tr>\n",
       "    <tr>\n",
       "      <th>1</th>\n",
       "      <td>My Little Pony: A New Generation</td>\n",
       "      <td>children&amp;familymovies</td>\n",
       "      <td>robertcullen joséluisucha</td>\n",
       "      <td>vanessahudgens kimikoglenn jamesmarsden sofiacarson lizakoshy kenjeong elizabethperkins janekrakowski michaelmckean phillamarr</td>\n",
       "      <td>Equestria's divided. But a bright-eyed hero believes Earth Ponies, Pegasi and Unicorns should be pals — and, hoof to heart, she’s determined to prove it.</td>\n",
       "    </tr>\n",
       "    <tr>\n",
       "      <th>2</th>\n",
       "      <td>Sankofa</td>\n",
       "      <td>dramas independentmovies internationalmovies</td>\n",
       "      <td>hailegerima</td>\n",
       "      <td>kofighanaba oyafunmikeogunlano alexandraduah nickmedley mutabaruka afemoomilami reggiecarter mzuri</td>\n",
       "      <td>On a photo shoot in Ghana, an American model slips back in time, becomes enslaved on a plantation and bears witness to the agony of her ancestral past.</td>\n",
       "    </tr>\n",
       "  </tbody>\n",
       "</table>\n",
       "</div>"
      ],
      "text/plain": [
       "                              title  \\\n",
       "0              Dick Johnson Is Dead   \n",
       "1  My Little Pony: A New Generation   \n",
       "2                           Sankofa   \n",
       "\n",
       "                                      listed_in                   director  \\\n",
       "0                                 documentaries             kirstenjohnson   \n",
       "1                         children&familymovies  robertcullen joséluisucha   \n",
       "2  dramas independentmovies internationalmovies                hailegerima   \n",
       "\n",
       "                                                                                                                             cast  \\\n",
       "0                                                                                                                                   \n",
       "1  vanessahudgens kimikoglenn jamesmarsden sofiacarson lizakoshy kenjeong elizabethperkins janekrakowski michaelmckean phillamarr   \n",
       "2                              kofighanaba oyafunmikeogunlano alexandraduah nickmedley mutabaruka afemoomilami reggiecarter mzuri   \n",
       "\n",
       "                                                                                                                                                 description  \n",
       "0   As her father nears the end of his life, filmmaker Kirsten Johnson stages his death in inventive and comical ways to help them both face the inevitable.  \n",
       "1  Equestria's divided. But a bright-eyed hero believes Earth Ponies, Pegasi and Unicorns should be pals — and, hoof to heart, she’s determined to prove it.  \n",
       "2    On a photo shoot in Ghana, an American model slips back in time, becomes enslaved on a plantation and bears witness to the agony of her ancestral past.  "
      ]
     },
     "execution_count": 14,
     "metadata": {},
     "output_type": "execute_result"
    }
   ],
   "source": [
    "## The code in this cell is from Niharika Pandit (2021), 'Netflix Visualizations, Recommendation, EDA', Kaggle, link: https://www.kaggle.com/code/niharika41298/netflix-visualizations-recommendation-eda#Recommendation-System-(Content-Based)\n",
    "## slightly modified to fit my selected features\n",
    "\n",
    "#Make all parameters lowercase & remove spaces between words \n",
    "# -> e.g. Vanessa Hudgens becomes vanessahudgens and Vannessa Kirby becomes vannessakirby so that their first name is not registered as the same word\n",
    "def clean_data(x):\n",
    "        return str.lower(x.replace(\" \", \"\").replace(\",\",\" \")) #modified this line to also replace commas with spaces\n",
    "features=['listed_in','director','cast']\n",
    "for feature in features:\n",
    "    df_new[feature] = df_new[feature].apply(clean_data)\n",
    "    \n",
    "df_new.head(3)"
   ]
  },
  {
   "attachments": {},
   "cell_type": "markdown",
   "metadata": {},
   "source": [
    "I used Bag-of-Words for this, as we only need to know how often a certain word occurs. TF-IDF, which we used before, also tells us how important a word is in a document compared to the rest of the corpus, but we don't need that for the genre/director/cast, as everything should have the same importance."
   ]
  },
  {
   "cell_type": "code",
   "execution_count": 15,
   "metadata": {},
   "outputs": [
    {
     "data": {
      "text/plain": [
       "(6131, 31139)"
      ]
     },
     "execution_count": 15,
     "metadata": {},
     "output_type": "execute_result"
    }
   ],
   "source": [
    "## The code in this cell is from Niharika Pandit (2021), 'Netflix Visualizations, Recommendation, EDA', Kaggle, link: https://www.kaggle.com/code/niharika41298/netflix-visualizations-recommendation-eda#Recommendation-System-(Content-Based)\n",
    "\n",
    "#combine all features into one column\n",
    "def combined(x):\n",
    "    return x['director'] + ' ' + x['cast'] + ' ' +x['listed_in']\n",
    "\n",
    "df_new['combined'] = df_new.apply(combined, axis=1)\n",
    "\n",
    "#Using CountVectorizer to get bag of words\n",
    "vectoriser = CountVectorizer(stop_words='english')\n",
    "bag_of_words = vectoriser.fit_transform(df_new['combined'])\n",
    "bag_of_words.shape"
   ]
  },
  {
   "cell_type": "code",
   "execution_count": 16,
   "metadata": {},
   "outputs": [
    {
     "data": {
      "text/plain": [
       "(6131, 6131)"
      ]
     },
     "execution_count": 16,
     "metadata": {},
     "output_type": "execute_result"
    }
   ],
   "source": [
    "#Calculate cosine similarity\n",
    "similarities_features = cosine(bag_of_words)\n",
    "similarities_features = pd.DataFrame(similarities_features, columns = df[\"title\"], index = df[\"title\"])\n",
    "similarities_features.shape"
   ]
  },
  {
   "attachments": {},
   "cell_type": "markdown",
   "metadata": {},
   "source": [
    "### Get Recommendations"
   ]
  },
  {
   "cell_type": "code",
   "execution_count": 17,
   "metadata": {},
   "outputs": [],
   "source": [
    "def get_recommendations_new (title, n, similarities):\n",
    "    recommendation = similarities.sort_values(by = title, ascending=False)[title].index[1:n+1]\n",
    "    df_recommendation = df.loc[df['title'].isin(recommendation)]\n",
    "    df_recommendation['title'] = pd.Categorical(df_recommendation['title'], recommendation)\n",
    "    return df_recommendation.sort_values(\"title\")"
   ]
  },
  {
   "attachments": {},
   "cell_type": "markdown",
   "metadata": {},
   "source": [
    "#### For Kung Fu Panda"
   ]
  },
  {
   "cell_type": "code",
   "execution_count": 18,
   "metadata": {},
   "outputs": [
    {
     "data": {
      "text/html": [
       "<div>\n",
       "<style scoped>\n",
       "    .dataframe tbody tr th:only-of-type {\n",
       "        vertical-align: middle;\n",
       "    }\n",
       "\n",
       "    .dataframe tbody tr th {\n",
       "        vertical-align: top;\n",
       "    }\n",
       "\n",
       "    .dataframe thead th {\n",
       "        text-align: right;\n",
       "    }\n",
       "</style>\n",
       "<table border=\"1\" class=\"dataframe\">\n",
       "  <thead>\n",
       "    <tr style=\"text-align: right;\">\n",
       "      <th></th>\n",
       "      <th>title</th>\n",
       "      <th>listed_in</th>\n",
       "      <th>director</th>\n",
       "      <th>cast</th>\n",
       "      <th>description</th>\n",
       "    </tr>\n",
       "  </thead>\n",
       "  <tbody>\n",
       "    <tr>\n",
       "      <th>4884</th>\n",
       "      <td>Kung Fu Panda: Holiday</td>\n",
       "      <td>Children &amp; Family Movies, Comedies</td>\n",
       "      <td>Tim Johnson</td>\n",
       "      <td>Jack Black, Angelina Jolie, Dustin Hoffman, Jackie Chan, Seth Rogen, Lucy Liu, David Cross, James Hong, Dan Fogler</td>\n",
       "      <td>As preparations for the Winter Feast build, Po is caught between his obligations as the Dragon Warrior and his family holiday traditions.</td>\n",
       "    </tr>\n",
       "    <tr>\n",
       "      <th>365</th>\n",
       "      <td>Kung Fu Panda 2</td>\n",
       "      <td>Children &amp; Family Movies, Comedies</td>\n",
       "      <td>Jennifer Yuh Nelson</td>\n",
       "      <td>Jack Black, Angelina Jolie, Dustin Hoffman, Gary Oldman, Seth Rogen, Lucy Liu, Jackie Chan, David Cross, James Hong, Michelle Yeoh</td>\n",
       "      <td>With his fists up and belly full, Po embarks on a perilous journey with the Furious Five to take on a frightful new enemy and save the art of kung fu.</td>\n",
       "    </tr>\n",
       "    <tr>\n",
       "      <th>3777</th>\n",
       "      <td>Kung Fu Panda: Secrets of the Scroll</td>\n",
       "      <td>Children &amp; Family Movies, Comedies</td>\n",
       "      <td>Rodolphe Guenoden</td>\n",
       "      <td>Jack Black, Dustin Hoffman, Seth Rogen, David Cross, Lucy Liu, Tara Macri, James Hong, Randall Duk Kim</td>\n",
       "      <td>When a twist of fate brings five unlikely animals together, they find that combining their unique kung fu styles as a team makes the perfect weapon!</td>\n",
       "    </tr>\n",
       "    <tr>\n",
       "      <th>658</th>\n",
       "      <td>Keymon and Nani in Space Adventure</td>\n",
       "      <td>Children &amp; Family Movies, Comedies</td>\n",
       "      <td>NaN</td>\n",
       "      <td>NaN</td>\n",
       "      <td>For Rohan and his magical pal, Keymon, a trip to visit their grandmother turns into the rescue mission of a lifetime when she is kidnapped by aliens!</td>\n",
       "    </tr>\n",
       "    <tr>\n",
       "      <th>1449</th>\n",
       "      <td>Little Singham: Legend of Dugabakka</td>\n",
       "      <td>Children &amp; Family Movies, Comedies</td>\n",
       "      <td>NaN</td>\n",
       "      <td>NaN</td>\n",
       "      <td>As fears rise over a ghost known for nighttime abductions, Mirchi Nagar residents look to the only person they know can save them: Little Singham!</td>\n",
       "    </tr>\n",
       "  </tbody>\n",
       "</table>\n",
       "</div>"
      ],
      "text/plain": [
       "                                     title  \\\n",
       "4884                Kung Fu Panda: Holiday   \n",
       "365                        Kung Fu Panda 2   \n",
       "3777  Kung Fu Panda: Secrets of the Scroll   \n",
       "658     Keymon and Nani in Space Adventure   \n",
       "1449   Little Singham: Legend of Dugabakka   \n",
       "\n",
       "                               listed_in             director  \\\n",
       "4884  Children & Family Movies, Comedies          Tim Johnson   \n",
       "365   Children & Family Movies, Comedies  Jennifer Yuh Nelson   \n",
       "3777  Children & Family Movies, Comedies    Rodolphe Guenoden   \n",
       "658   Children & Family Movies, Comedies                  NaN   \n",
       "1449  Children & Family Movies, Comedies                  NaN   \n",
       "\n",
       "                                                                                                                                    cast  \\\n",
       "4884                  Jack Black, Angelina Jolie, Dustin Hoffman, Jackie Chan, Seth Rogen, Lucy Liu, David Cross, James Hong, Dan Fogler   \n",
       "365   Jack Black, Angelina Jolie, Dustin Hoffman, Gary Oldman, Seth Rogen, Lucy Liu, Jackie Chan, David Cross, James Hong, Michelle Yeoh   \n",
       "3777                              Jack Black, Dustin Hoffman, Seth Rogen, David Cross, Lucy Liu, Tara Macri, James Hong, Randall Duk Kim   \n",
       "658                                                                                                                                  NaN   \n",
       "1449                                                                                                                                 NaN   \n",
       "\n",
       "                                                                                                                                                 description  \n",
       "4884               As preparations for the Winter Feast build, Po is caught between his obligations as the Dragon Warrior and his family holiday traditions.  \n",
       "365   With his fists up and belly full, Po embarks on a perilous journey with the Furious Five to take on a frightful new enemy and save the art of kung fu.  \n",
       "3777    When a twist of fate brings five unlikely animals together, they find that combining their unique kung fu styles as a team makes the perfect weapon!  \n",
       "658    For Rohan and his magical pal, Keymon, a trip to visit their grandmother turns into the rescue mission of a lifetime when she is kidnapped by aliens!  \n",
       "1449      As fears rise over a ghost known for nighttime abductions, Mirchi Nagar residents look to the only person they know can save them: Little Singham!  "
      ]
     },
     "execution_count": 18,
     "metadata": {},
     "output_type": "execute_result"
    }
   ],
   "source": [
    "get_recommendations_new('Kung Fu Panda', 5, similarities_features)"
   ]
  },
  {
   "attachments": {},
   "cell_type": "markdown",
   "metadata": {},
   "source": [
    "Now basically all the other Kung Fu Panda films are recommended to us because they have the same genres and a similar cast. This makes sense, but perhaps users would like a little more variety."
   ]
  },
  {
   "attachments": {},
   "cell_type": "markdown",
   "metadata": {},
   "source": [
    "#### For Charlie and the Chocolate Factory"
   ]
  },
  {
   "cell_type": "code",
   "execution_count": 19,
   "metadata": {},
   "outputs": [
    {
     "data": {
      "text/html": [
       "<div>\n",
       "<style scoped>\n",
       "    .dataframe tbody tr th:only-of-type {\n",
       "        vertical-align: middle;\n",
       "    }\n",
       "\n",
       "    .dataframe tbody tr th {\n",
       "        vertical-align: top;\n",
       "    }\n",
       "\n",
       "    .dataframe thead th {\n",
       "        text-align: right;\n",
       "    }\n",
       "</style>\n",
       "<table border=\"1\" class=\"dataframe\">\n",
       "  <thead>\n",
       "    <tr style=\"text-align: right;\">\n",
       "      <th></th>\n",
       "      <th>title</th>\n",
       "      <th>listed_in</th>\n",
       "      <th>director</th>\n",
       "      <th>cast</th>\n",
       "      <th>description</th>\n",
       "    </tr>\n",
       "  </thead>\n",
       "  <tbody>\n",
       "    <tr>\n",
       "      <th>658</th>\n",
       "      <td>Keymon and Nani in Space Adventure</td>\n",
       "      <td>Children &amp; Family Movies, Comedies</td>\n",
       "      <td>NaN</td>\n",
       "      <td>NaN</td>\n",
       "      <td>For Rohan and his magical pal, Keymon, a trip to visit their grandmother turns into the rescue mission of a lifetime when she is kidnapped by aliens!</td>\n",
       "    </tr>\n",
       "    <tr>\n",
       "      <th>1449</th>\n",
       "      <td>Little Singham: Legend of Dugabakka</td>\n",
       "      <td>Children &amp; Family Movies, Comedies</td>\n",
       "      <td>NaN</td>\n",
       "      <td>NaN</td>\n",
       "      <td>As fears rise over a ghost known for nighttime abductions, Mirchi Nagar residents look to the only person they know can save them: Little Singham!</td>\n",
       "    </tr>\n",
       "    <tr>\n",
       "      <th>4940</th>\n",
       "      <td>Little Singham aur Kaal ka Mahajaal</td>\n",
       "      <td>Children &amp; Family Movies, Comedies</td>\n",
       "      <td>Prakash Satam</td>\n",
       "      <td>NaN</td>\n",
       "      <td>When Kaal, the vilest demon on earth, threatens to destroy his village, child cop Little Singham must use his strength and smarts to fight back.</td>\n",
       "    </tr>\n",
       "    <tr>\n",
       "      <th>2189</th>\n",
       "      <td>Little Singham: Kaal Ki Tabaahi</td>\n",
       "      <td>Children &amp; Family Movies, Comedies</td>\n",
       "      <td>Prakash Satam</td>\n",
       "      <td>NaN</td>\n",
       "      <td>Kaal is back – bigger and badder than ever! Can Little Singham fight the battle of a lifetime to stop the demon’s plans to wreak havoc on earth?</td>\n",
       "    </tr>\n",
       "    <tr>\n",
       "      <th>4942</th>\n",
       "      <td>Little Singham in London</td>\n",
       "      <td>Children &amp; Family Movies, Comedies</td>\n",
       "      <td>Prakash Satam</td>\n",
       "      <td>NaN</td>\n",
       "      <td>Little Singham is in London to meet the queen, but when the famed Kohinoor Diamond gets stolen, the kid cop goes on a wild, citywide hunt for the thief.</td>\n",
       "    </tr>\n",
       "  </tbody>\n",
       "</table>\n",
       "</div>"
      ],
      "text/plain": [
       "                                    title                           listed_in  \\\n",
       "658    Keymon and Nani in Space Adventure  Children & Family Movies, Comedies   \n",
       "1449  Little Singham: Legend of Dugabakka  Children & Family Movies, Comedies   \n",
       "4940  Little Singham aur Kaal ka Mahajaal  Children & Family Movies, Comedies   \n",
       "2189      Little Singham: Kaal Ki Tabaahi  Children & Family Movies, Comedies   \n",
       "4942             Little Singham in London  Children & Family Movies, Comedies   \n",
       "\n",
       "           director cast  \\\n",
       "658             NaN  NaN   \n",
       "1449            NaN  NaN   \n",
       "4940  Prakash Satam  NaN   \n",
       "2189  Prakash Satam  NaN   \n",
       "4942  Prakash Satam  NaN   \n",
       "\n",
       "                                                                                                                                                   description  \n",
       "658      For Rohan and his magical pal, Keymon, a trip to visit their grandmother turns into the rescue mission of a lifetime when she is kidnapped by aliens!  \n",
       "1449        As fears rise over a ghost known for nighttime abductions, Mirchi Nagar residents look to the only person they know can save them: Little Singham!  \n",
       "4940          When Kaal, the vilest demon on earth, threatens to destroy his village, child cop Little Singham must use his strength and smarts to fight back.  \n",
       "2189          Kaal is back – bigger and badder than ever! Can Little Singham fight the battle of a lifetime to stop the demon’s plans to wreak havoc on earth?  \n",
       "4942  Little Singham is in London to meet the queen, but when the famed Kohinoor Diamond gets stolen, the kid cop goes on a wild, citywide hunt for the thief.  "
      ]
     },
     "execution_count": 19,
     "metadata": {},
     "output_type": "execute_result"
    }
   ],
   "source": [
    "get_recommendations_new('Charlie and the Chocolate Factory', 5, similarities_features)"
   ]
  },
  {
   "attachments": {},
   "cell_type": "markdown",
   "metadata": {},
   "source": [
    "From a quick look at the dates in Excel, I already knew that \"Charlie and the Chocolate Factory\" and \"Sweeney Todd: The Demon Barber of Fleet Street\" had the same director (Tim Burton) and actor (Johnny Depp) - so I was surprised when I didn't see the movie in the generated recommendations.\n",
    "\n",
    "That's why I decided to look at the top recommended film ('Keymon and Nani in Space Adventure') in comparison to 'Sweeney Todd'."
   ]
  },
  {
   "cell_type": "code",
   "execution_count": 20,
   "metadata": {},
   "outputs": [
    {
     "data": {
      "text/html": [
       "<div>\n",
       "<style scoped>\n",
       "    .dataframe tbody tr th:only-of-type {\n",
       "        vertical-align: middle;\n",
       "    }\n",
       "\n",
       "    .dataframe tbody tr th {\n",
       "        vertical-align: top;\n",
       "    }\n",
       "\n",
       "    .dataframe thead th {\n",
       "        text-align: right;\n",
       "    }\n",
       "</style>\n",
       "<table border=\"1\" class=\"dataframe\">\n",
       "  <thead>\n",
       "    <tr style=\"text-align: right;\">\n",
       "      <th></th>\n",
       "      <th>title</th>\n",
       "      <th>listed_in</th>\n",
       "      <th>director</th>\n",
       "      <th>cast</th>\n",
       "      <th>description</th>\n",
       "    </tr>\n",
       "  </thead>\n",
       "  <tbody>\n",
       "    <tr>\n",
       "      <th>658</th>\n",
       "      <td>Keymon and Nani in Space Adventure</td>\n",
       "      <td>Children &amp; Family Movies, Comedies</td>\n",
       "      <td>NaN</td>\n",
       "      <td>NaN</td>\n",
       "      <td>For Rohan and his magical pal, Keymon, a trip to visit their grandmother turns into the rescue mission of a lifetime when she is kidnapped by aliens!</td>\n",
       "    </tr>\n",
       "    <tr>\n",
       "      <th>4262</th>\n",
       "      <td>Charlie and the Chocolate Factory</td>\n",
       "      <td>Children &amp; Family Movies, Comedies</td>\n",
       "      <td>Tim Burton</td>\n",
       "      <td>Johnny Depp, Freddie Highmore, David Kelly, Helena Bonham Carter, Noah Taylor, Missi Pyle, James Fox, Deep Roy, Christopher Lee, Adam Godley, AnnaSophia Robb, Julia Winter, Jordan Fry, Philip Wiegratz</td>\n",
       "      <td>The eccentric Willy Wonka opens the doors of his candy factory to five lucky kids who learn the secrets behind his amazing confections.</td>\n",
       "    </tr>\n",
       "    <tr>\n",
       "      <th>5584</th>\n",
       "      <td>Sweeney Todd: The Demon Barber of Fleet Street</td>\n",
       "      <td>Dramas, Horror Movies, Music &amp; Musicals</td>\n",
       "      <td>Tim Burton</td>\n",
       "      <td>Johnny Depp, Helena Bonham Carter, Alan Rickman, Timothy Spall, Sacha Baron Cohen, Jamie Campbell Bower, Laura Michelle Kelly, Jayne Wisener, Ed Sanders</td>\n",
       "      <td>After being falsely imprisoned, a vengeful murderer covers his tracks by enlisting the help of a baker whose meat pies become the toast of London.</td>\n",
       "    </tr>\n",
       "  </tbody>\n",
       "</table>\n",
       "</div>"
      ],
      "text/plain": [
       "                                               title  \\\n",
       "658               Keymon and Nani in Space Adventure   \n",
       "4262               Charlie and the Chocolate Factory   \n",
       "5584  Sweeney Todd: The Demon Barber of Fleet Street   \n",
       "\n",
       "                                    listed_in    director  \\\n",
       "658        Children & Family Movies, Comedies         NaN   \n",
       "4262       Children & Family Movies, Comedies  Tim Burton   \n",
       "5584  Dramas, Horror Movies, Music & Musicals  Tim Burton   \n",
       "\n",
       "                                                                                                                                                                                                          cast  \\\n",
       "658                                                                                                                                                                                                        NaN   \n",
       "4262  Johnny Depp, Freddie Highmore, David Kelly, Helena Bonham Carter, Noah Taylor, Missi Pyle, James Fox, Deep Roy, Christopher Lee, Adam Godley, AnnaSophia Robb, Julia Winter, Jordan Fry, Philip Wiegratz   \n",
       "5584                                                  Johnny Depp, Helena Bonham Carter, Alan Rickman, Timothy Spall, Sacha Baron Cohen, Jamie Campbell Bower, Laura Michelle Kelly, Jayne Wisener, Ed Sanders   \n",
       "\n",
       "                                                                                                                                                description  \n",
       "658   For Rohan and his magical pal, Keymon, a trip to visit their grandmother turns into the rescue mission of a lifetime when she is kidnapped by aliens!  \n",
       "4262                The eccentric Willy Wonka opens the doors of his candy factory to five lucky kids who learn the secrets behind his amazing confections.  \n",
       "5584     After being falsely imprisoned, a vengeful murderer covers his tracks by enlisting the help of a baker whose meat pies become the toast of London.  "
      ]
     },
     "execution_count": 20,
     "metadata": {},
     "output_type": "execute_result"
    }
   ],
   "source": [
    "df.loc[(df['title'] == 'Charlie and the Chocolate Factory') | (df['title'] == 'Sweeney Todd: The Demon Barber of Fleet Street')| (df['title'] == 'Keymon and Nani in Space Adventure')]"
   ]
  },
  {
   "cell_type": "code",
   "execution_count": 21,
   "metadata": {},
   "outputs": [
    {
     "data": {
      "text/plain": [
       "0.40824829046386313"
      ]
     },
     "execution_count": 21,
     "metadata": {},
     "output_type": "execute_result"
    }
   ],
   "source": [
    "#Cosine similarity between Keymon and Nani & Charlie\n",
    "similarities_features.loc['Keymon and Nani in Space Adventure']['Charlie and the Chocolate Factory']"
   ]
  },
  {
   "cell_type": "code",
   "execution_count": 22,
   "metadata": {},
   "outputs": [
    {
     "data": {
      "text/plain": [
       "0.18898223650461363"
      ]
     },
     "execution_count": 22,
     "metadata": {},
     "output_type": "execute_result"
    }
   ],
   "source": [
    "#Cosine similarity between Sweeney Todd & Charlie\n",
    "similarities_features.loc['Sweeney Todd: The Demon Barber of Fleet Street']['Charlie and the Chocolate Factory']"
   ]
  },
  {
   "attachments": {},
   "cell_type": "markdown",
   "metadata": {},
   "source": [
    "-> Both films have two things in common with 'Charlie and the Chocolate Factory':\n",
    "\n",
    "- Little Singham: The same genres (Children & Family Movies + Comedies)\n",
    "- Sweeney Todd: Tim Burton + Johnny Depp\n",
    "\n",
    "'Little Singham' has a higher cosine similarity because it has no values for cast and director. This gives it more similarity to 'Charlie and the Chocolate Factory', while 'Sweeney Todd' lists more actors and therefore has more differences.\n",
    "\n",
    "A simple solution to avoid this problem would be to delete all movies with NaN values form the dataset, which can be done by uncommenting the code at the very beginning of this notebook."
   ]
  },
  {
   "attachments": {},
   "cell_type": "markdown",
   "metadata": {},
   "source": [
    "#### For The Lord of the Rings"
   ]
  },
  {
   "cell_type": "code",
   "execution_count": 23,
   "metadata": {},
   "outputs": [
    {
     "data": {
      "text/html": [
       "<div>\n",
       "<style scoped>\n",
       "    .dataframe tbody tr th:only-of-type {\n",
       "        vertical-align: middle;\n",
       "    }\n",
       "\n",
       "    .dataframe tbody tr th {\n",
       "        vertical-align: top;\n",
       "    }\n",
       "\n",
       "    .dataframe thead th {\n",
       "        text-align: right;\n",
       "    }\n",
       "</style>\n",
       "<table border=\"1\" class=\"dataframe\">\n",
       "  <thead>\n",
       "    <tr style=\"text-align: right;\">\n",
       "      <th></th>\n",
       "      <th>title</th>\n",
       "      <th>listed_in</th>\n",
       "      <th>director</th>\n",
       "      <th>cast</th>\n",
       "      <th>description</th>\n",
       "    </tr>\n",
       "  </thead>\n",
       "  <tbody>\n",
       "    <tr>\n",
       "      <th>5800</th>\n",
       "      <td>The Lord of the Rings: The Return of the King</td>\n",
       "      <td>Action &amp; Adventure, Sci-Fi &amp; Fantasy</td>\n",
       "      <td>Peter Jackson</td>\n",
       "      <td>Elijah Wood, Ian McKellen, Liv Tyler, Viggo Mortensen, Sean Astin, Cate Blanchett, John Rhys-Davies, Bernard Hill, Billy Boyd, Dominic Monaghan, Orlando Bloom, Hugo Weaving</td>\n",
       "      <td>Aragorn is revealed as the heir to the ancient kings as he, Gandalf and the other members of the broken fellowship struggle to save Gondor.</td>\n",
       "    </tr>\n",
       "    <tr>\n",
       "      <th>5443</th>\n",
       "      <td>Season of the Witch</td>\n",
       "      <td>Action &amp; Adventure, Sci-Fi &amp; Fantasy</td>\n",
       "      <td>Dominic Sena</td>\n",
       "      <td>Nicolas Cage, Ron Perlman, Christopher Lee, Stephen Campbell Moore, Stephen Graham, Ulrich Thomsen, Claire Foy, Robert Sheehan, Kevin Rees, Andrew Hefler</td>\n",
       "      <td>A group of weary warriors transport a suspected witch believed to be responsible for spreading the devastating Black Plague.</td>\n",
       "    </tr>\n",
       "    <tr>\n",
       "      <th>4747</th>\n",
       "      <td>Indiana Jones and the Kingdom of the Crystal Skull</td>\n",
       "      <td>Action &amp; Adventure, Children &amp; Family Movies, Sci-Fi &amp; Fantasy</td>\n",
       "      <td>Steven Spielberg</td>\n",
       "      <td>Harrison Ford, Cate Blanchett, Karen Allen, Ray Winstone, John Hurt, Jim Broadbent, Igor Jijikine, Shia LaBeouf</td>\n",
       "      <td>Indiana Jones is drawn into a Russian plot to unearth the Crystal Skulls of Akator, Amazonian artifacts with supernatural powers.</td>\n",
       "    </tr>\n",
       "    <tr>\n",
       "      <th>3857</th>\n",
       "      <td>9</td>\n",
       "      <td>Action &amp; Adventure, Independent Movies, Sci-Fi &amp; Fantasy</td>\n",
       "      <td>Shane Acker</td>\n",
       "      <td>Elijah Wood, John C. Reilly, Jennifer Connelly, Christopher Plummer, Crispin Glover, Martin Landau, Fred Tatasciore, Alan Oppenheimer, Tom Kane</td>\n",
       "      <td>In a postapocalyptic world, rag-doll robots hide in fear from dangerous machines out to exterminate them, until a brave newcomer joins the group.</td>\n",
       "    </tr>\n",
       "    <tr>\n",
       "      <th>5013</th>\n",
       "      <td>Marvel's Iron Man &amp; Hulk: Heroes United</td>\n",
       "      <td>Action &amp; Adventure, Sci-Fi &amp; Fantasy</td>\n",
       "      <td>Leo Riley, Eric Radomski</td>\n",
       "      <td>Adrian Pasdar, Fred Tatasciore, Dee Bradley Baker, Robin Atkin Downes, David Kaye</td>\n",
       "      <td>When scientists join Hulk's gamma energy with Tony Stark's Arc Reactor, the resulting force creates a foe that only the two Marvel heroes can combat.</td>\n",
       "    </tr>\n",
       "  </tbody>\n",
       "</table>\n",
       "</div>"
      ],
      "text/plain": [
       "                                                   title  \\\n",
       "5800       The Lord of the Rings: The Return of the King   \n",
       "5443                                 Season of the Witch   \n",
       "4747  Indiana Jones and the Kingdom of the Crystal Skull   \n",
       "3857                                                   9   \n",
       "5013             Marvel's Iron Man & Hulk: Heroes United   \n",
       "\n",
       "                                                           listed_in  \\\n",
       "5800                            Action & Adventure, Sci-Fi & Fantasy   \n",
       "5443                            Action & Adventure, Sci-Fi & Fantasy   \n",
       "4747  Action & Adventure, Children & Family Movies, Sci-Fi & Fantasy   \n",
       "3857        Action & Adventure, Independent Movies, Sci-Fi & Fantasy   \n",
       "5013                            Action & Adventure, Sci-Fi & Fantasy   \n",
       "\n",
       "                      director  \\\n",
       "5800             Peter Jackson   \n",
       "5443              Dominic Sena   \n",
       "4747          Steven Spielberg   \n",
       "3857               Shane Acker   \n",
       "5013  Leo Riley, Eric Radomski   \n",
       "\n",
       "                                                                                                                                                                              cast  \\\n",
       "5800  Elijah Wood, Ian McKellen, Liv Tyler, Viggo Mortensen, Sean Astin, Cate Blanchett, John Rhys-Davies, Bernard Hill, Billy Boyd, Dominic Monaghan, Orlando Bloom, Hugo Weaving   \n",
       "5443                     Nicolas Cage, Ron Perlman, Christopher Lee, Stephen Campbell Moore, Stephen Graham, Ulrich Thomsen, Claire Foy, Robert Sheehan, Kevin Rees, Andrew Hefler   \n",
       "4747                                                               Harrison Ford, Cate Blanchett, Karen Allen, Ray Winstone, John Hurt, Jim Broadbent, Igor Jijikine, Shia LaBeouf   \n",
       "3857                               Elijah Wood, John C. Reilly, Jennifer Connelly, Christopher Plummer, Crispin Glover, Martin Landau, Fred Tatasciore, Alan Oppenheimer, Tom Kane   \n",
       "5013                                                                                             Adrian Pasdar, Fred Tatasciore, Dee Bradley Baker, Robin Atkin Downes, David Kaye   \n",
       "\n",
       "                                                                                                                                                description  \n",
       "5800            Aragorn is revealed as the heir to the ancient kings as he, Gandalf and the other members of the broken fellowship struggle to save Gondor.  \n",
       "5443                           A group of weary warriors transport a suspected witch believed to be responsible for spreading the devastating Black Plague.  \n",
       "4747                      Indiana Jones is drawn into a Russian plot to unearth the Crystal Skulls of Akator, Amazonian artifacts with supernatural powers.  \n",
       "3857      In a postapocalyptic world, rag-doll robots hide in fear from dangerous machines out to exterminate them, until a brave newcomer joins the group.  \n",
       "5013  When scientists join Hulk's gamma energy with Tony Stark's Arc Reactor, the resulting force creates a foe that only the two Marvel heroes can combat.  "
      ]
     },
     "execution_count": 23,
     "metadata": {},
     "output_type": "execute_result"
    }
   ],
   "source": [
    "get_recommendations_new('The Lord of the Rings: The Two Towers', 5, similarities_features)"
   ]
  },
  {
   "cell_type": "code",
   "execution_count": 24,
   "metadata": {},
   "outputs": [
    {
     "data": {
      "text/html": [
       "<div>\n",
       "<style scoped>\n",
       "    .dataframe tbody tr th:only-of-type {\n",
       "        vertical-align: middle;\n",
       "    }\n",
       "\n",
       "    .dataframe tbody tr th {\n",
       "        vertical-align: top;\n",
       "    }\n",
       "\n",
       "    .dataframe thead th {\n",
       "        text-align: right;\n",
       "    }\n",
       "</style>\n",
       "<table border=\"1\" class=\"dataframe\">\n",
       "  <thead>\n",
       "    <tr style=\"text-align: right;\">\n",
       "      <th></th>\n",
       "      <th>title</th>\n",
       "      <th>listed_in</th>\n",
       "      <th>director</th>\n",
       "      <th>cast</th>\n",
       "      <th>description</th>\n",
       "    </tr>\n",
       "  </thead>\n",
       "  <tbody>\n",
       "    <tr>\n",
       "      <th>5801</th>\n",
       "      <td>The Lord of the Rings: The Two Towers</td>\n",
       "      <td>Action &amp; Adventure, Sci-Fi &amp; Fantasy</td>\n",
       "      <td>Peter Jackson</td>\n",
       "      <td>Elijah Wood, Ian McKellen, Liv Tyler, Viggo Mortensen, Sean Astin, Cate Blanchett, John Rhys-Davies, Bernard Hill, Christopher Lee, Billy Boyd, Dominic Monaghan, Orlando Bloom</td>\n",
       "      <td>Frodo and Sam head to Mordor to destroy the One Ring of Power while Gimli, Legolas and Aragorn search for the orc-captured Merry and Pippin.</td>\n",
       "    </tr>\n",
       "  </tbody>\n",
       "</table>\n",
       "</div>"
      ],
      "text/plain": [
       "                                      title  \\\n",
       "5801  The Lord of the Rings: The Two Towers   \n",
       "\n",
       "                                 listed_in       director  \\\n",
       "5801  Action & Adventure, Sci-Fi & Fantasy  Peter Jackson   \n",
       "\n",
       "                                                                                                                                                                                 cast  \\\n",
       "5801  Elijah Wood, Ian McKellen, Liv Tyler, Viggo Mortensen, Sean Astin, Cate Blanchett, John Rhys-Davies, Bernard Hill, Christopher Lee, Billy Boyd, Dominic Monaghan, Orlando Bloom   \n",
       "\n",
       "                                                                                                                                       description  \n",
       "5801  Frodo and Sam head to Mordor to destroy the One Ring of Power while Gimli, Legolas and Aragorn search for the orc-captured Merry and Pippin.  "
      ]
     },
     "execution_count": 24,
     "metadata": {},
     "output_type": "execute_result"
    }
   ],
   "source": [
    "#Look at the properties for the seed movie\n",
    "df.loc[df['title'] == \"The Lord of the Rings: The Two Towers\"]"
   ]
  },
  {
   "attachments": {},
   "cell_type": "markdown",
   "metadata": {},
   "source": [
    "- \"The Lord of the Rings: The Return of the King\" is recommended because it has the same genre, the same director and mostly the same actors. \n",
    "- \"Season of the Witch\" has the same genres and Christopher Lee is also an actor in it. \n",
    "- \"Indiana Jones\" has Cate Blanchett as an actor in common, but one genre (Children & Family movies) more.\n",
    "\n",
    "I would say \"Season of the Witches\" is a recommendation that makes sense. The other films are not completely off the mark, but they're not the best recommendations either."
   ]
  },
  {
   "attachments": {},
   "cell_type": "markdown",
   "metadata": {},
   "source": [
    "____\n",
    "## Recommendations for descriptions + properties\n",
    "Let's combine both approaches.\n",
    "\n",
    "I also decided to add a weighting variable for the descriptions so that a user could theoretically influence how important the descriptions should be for the recommendations."
   ]
  },
  {
   "cell_type": "code",
   "execution_count": 25,
   "metadata": {},
   "outputs": [],
   "source": [
    "description_weight = 2 #control the weight the descriptions have in comparison to director, cast & genre\n",
    "\n",
    "#Combine both cosine similarity dataframes\n",
    "create_sum = lambda s1, s2: s1 + s2\n",
    "total_similarities = similarities_features.combine((similarities*description_weight), create_sum)"
   ]
  },
  {
   "attachments": {},
   "cell_type": "markdown",
   "metadata": {},
   "source": [
    "### Get Recommendations\n",
    "As expected, the results are mostly a mixture of the recommendations we have already seen. Overall, this combination seems to give the best results."
   ]
  },
  {
   "attachments": {},
   "cell_type": "markdown",
   "metadata": {},
   "source": [
    "#### For Kung Fu Panda"
   ]
  },
  {
   "cell_type": "code",
   "execution_count": 26,
   "metadata": {},
   "outputs": [
    {
     "data": {
      "text/html": [
       "<div>\n",
       "<style scoped>\n",
       "    .dataframe tbody tr th:only-of-type {\n",
       "        vertical-align: middle;\n",
       "    }\n",
       "\n",
       "    .dataframe tbody tr th {\n",
       "        vertical-align: top;\n",
       "    }\n",
       "\n",
       "    .dataframe thead th {\n",
       "        text-align: right;\n",
       "    }\n",
       "</style>\n",
       "<table border=\"1\" class=\"dataframe\">\n",
       "  <thead>\n",
       "    <tr style=\"text-align: right;\">\n",
       "      <th></th>\n",
       "      <th>title</th>\n",
       "      <th>listed_in</th>\n",
       "      <th>director</th>\n",
       "      <th>cast</th>\n",
       "      <th>description</th>\n",
       "    </tr>\n",
       "  </thead>\n",
       "  <tbody>\n",
       "    <tr>\n",
       "      <th>3777</th>\n",
       "      <td>Kung Fu Panda: Secrets of the Scroll</td>\n",
       "      <td>Children &amp; Family Movies, Comedies</td>\n",
       "      <td>Rodolphe Guenoden</td>\n",
       "      <td>Jack Black, Dustin Hoffman, Seth Rogen, David Cross, Lucy Liu, Tara Macri, James Hong, Randall Duk Kim</td>\n",
       "      <td>When a twist of fate brings five unlikely animals together, they find that combining their unique kung fu styles as a team makes the perfect weapon!</td>\n",
       "    </tr>\n",
       "    <tr>\n",
       "      <th>365</th>\n",
       "      <td>Kung Fu Panda 2</td>\n",
       "      <td>Children &amp; Family Movies, Comedies</td>\n",
       "      <td>Jennifer Yuh Nelson</td>\n",
       "      <td>Jack Black, Angelina Jolie, Dustin Hoffman, Gary Oldman, Seth Rogen, Lucy Liu, Jackie Chan, David Cross, James Hong, Michelle Yeoh</td>\n",
       "      <td>With his fists up and belly full, Po embarks on a perilous journey with the Furious Five to take on a frightful new enemy and save the art of kung fu.</td>\n",
       "    </tr>\n",
       "    <tr>\n",
       "      <th>4884</th>\n",
       "      <td>Kung Fu Panda: Holiday</td>\n",
       "      <td>Children &amp; Family Movies, Comedies</td>\n",
       "      <td>Tim Johnson</td>\n",
       "      <td>Jack Black, Angelina Jolie, Dustin Hoffman, Jackie Chan, Seth Rogen, Lucy Liu, David Cross, James Hong, Dan Fogler</td>\n",
       "      <td>As preparations for the Winter Feast build, Po is caught between his obligations as the Dragon Warrior and his family holiday traditions.</td>\n",
       "    </tr>\n",
       "    <tr>\n",
       "      <th>4883</th>\n",
       "      <td>Kung Fu Magoo</td>\n",
       "      <td>Children &amp; Family Movies, Comedies</td>\n",
       "      <td>Andrés Couturier</td>\n",
       "      <td>Dylan Sprouse, Cole Sprouse, Alyson Stoner, Tom Kenny, Chris Parnell, Rodger Bumpass, Maile Flanagan, Wally Wingert, Candi Milo, Jim Ward</td>\n",
       "      <td>Shortsighted curmudgeon Mr. Magoo and his young nephew, Justin, fight such nefarious foes as kung fu villains, robot spiders and teenage mutants.</td>\n",
       "    </tr>\n",
       "    <tr>\n",
       "      <th>1449</th>\n",
       "      <td>Little Singham: Legend of Dugabakka</td>\n",
       "      <td>Children &amp; Family Movies, Comedies</td>\n",
       "      <td>NaN</td>\n",
       "      <td>NaN</td>\n",
       "      <td>As fears rise over a ghost known for nighttime abductions, Mirchi Nagar residents look to the only person they know can save them: Little Singham!</td>\n",
       "    </tr>\n",
       "  </tbody>\n",
       "</table>\n",
       "</div>"
      ],
      "text/plain": [
       "                                     title  \\\n",
       "3777  Kung Fu Panda: Secrets of the Scroll   \n",
       "365                        Kung Fu Panda 2   \n",
       "4884                Kung Fu Panda: Holiday   \n",
       "4883                         Kung Fu Magoo   \n",
       "1449   Little Singham: Legend of Dugabakka   \n",
       "\n",
       "                               listed_in             director  \\\n",
       "3777  Children & Family Movies, Comedies    Rodolphe Guenoden   \n",
       "365   Children & Family Movies, Comedies  Jennifer Yuh Nelson   \n",
       "4884  Children & Family Movies, Comedies          Tim Johnson   \n",
       "4883  Children & Family Movies, Comedies     Andrés Couturier   \n",
       "1449  Children & Family Movies, Comedies                  NaN   \n",
       "\n",
       "                                                                                                                                           cast  \\\n",
       "3777                                     Jack Black, Dustin Hoffman, Seth Rogen, David Cross, Lucy Liu, Tara Macri, James Hong, Randall Duk Kim   \n",
       "365          Jack Black, Angelina Jolie, Dustin Hoffman, Gary Oldman, Seth Rogen, Lucy Liu, Jackie Chan, David Cross, James Hong, Michelle Yeoh   \n",
       "4884                         Jack Black, Angelina Jolie, Dustin Hoffman, Jackie Chan, Seth Rogen, Lucy Liu, David Cross, James Hong, Dan Fogler   \n",
       "4883  Dylan Sprouse, Cole Sprouse, Alyson Stoner, Tom Kenny, Chris Parnell, Rodger Bumpass, Maile Flanagan, Wally Wingert, Candi Milo, Jim Ward   \n",
       "1449                                                                                                                                        NaN   \n",
       "\n",
       "                                                                                                                                                 description  \n",
       "3777    When a twist of fate brings five unlikely animals together, they find that combining their unique kung fu styles as a team makes the perfect weapon!  \n",
       "365   With his fists up and belly full, Po embarks on a perilous journey with the Furious Five to take on a frightful new enemy and save the art of kung fu.  \n",
       "4884               As preparations for the Winter Feast build, Po is caught between his obligations as the Dragon Warrior and his family holiday traditions.  \n",
       "4883       Shortsighted curmudgeon Mr. Magoo and his young nephew, Justin, fight such nefarious foes as kung fu villains, robot spiders and teenage mutants.  \n",
       "1449      As fears rise over a ghost known for nighttime abductions, Mirchi Nagar residents look to the only person they know can save them: Little Singham!  "
      ]
     },
     "execution_count": 26,
     "metadata": {},
     "output_type": "execute_result"
    }
   ],
   "source": [
    "get_recommendations_new(\"Kung Fu Panda\", 5, total_similarities)"
   ]
  },
  {
   "attachments": {},
   "cell_type": "markdown",
   "metadata": {},
   "source": [
    "#### For Charlie and the Chocolate Factory"
   ]
  },
  {
   "cell_type": "code",
   "execution_count": 27,
   "metadata": {},
   "outputs": [
    {
     "data": {
      "text/html": [
       "<div>\n",
       "<style scoped>\n",
       "    .dataframe tbody tr th:only-of-type {\n",
       "        vertical-align: middle;\n",
       "    }\n",
       "\n",
       "    .dataframe tbody tr th {\n",
       "        vertical-align: top;\n",
       "    }\n",
       "\n",
       "    .dataframe thead th {\n",
       "        text-align: right;\n",
       "    }\n",
       "</style>\n",
       "<table border=\"1\" class=\"dataframe\">\n",
       "  <thead>\n",
       "    <tr style=\"text-align: right;\">\n",
       "      <th></th>\n",
       "      <th>title</th>\n",
       "      <th>listed_in</th>\n",
       "      <th>director</th>\n",
       "      <th>cast</th>\n",
       "      <th>description</th>\n",
       "    </tr>\n",
       "  </thead>\n",
       "  <tbody>\n",
       "    <tr>\n",
       "      <th>6082</th>\n",
       "      <td>Willy Wonka &amp; the Chocolate Factory</td>\n",
       "      <td>Children &amp; Family Movies, Classic Movies, Comedies</td>\n",
       "      <td>Mel Stuart</td>\n",
       "      <td>Gene Wilder, Jack Albertson, Peter Ostrum, Roy Kinnear, Julie Dawn Cole, Leonard Stone, Denise Nickerson, Dodo Denney, Paris Themmen, Ursula Reit</td>\n",
       "      <td>Zany Willy Wonka causes a stir when he announces that golden tickets hidden inside his candy bars will admit holders into his secret confectionary.</td>\n",
       "    </tr>\n",
       "    <tr>\n",
       "      <th>4942</th>\n",
       "      <td>Little Singham in London</td>\n",
       "      <td>Children &amp; Family Movies, Comedies</td>\n",
       "      <td>Prakash Satam</td>\n",
       "      <td>NaN</td>\n",
       "      <td>Little Singham is in London to meet the queen, but when the famed Kohinoor Diamond gets stolen, the kid cop goes on a wild, citywide hunt for the thief.</td>\n",
       "    </tr>\n",
       "    <tr>\n",
       "      <th>658</th>\n",
       "      <td>Keymon and Nani in Space Adventure</td>\n",
       "      <td>Children &amp; Family Movies, Comedies</td>\n",
       "      <td>NaN</td>\n",
       "      <td>NaN</td>\n",
       "      <td>For Rohan and his magical pal, Keymon, a trip to visit their grandmother turns into the rescue mission of a lifetime when she is kidnapped by aliens!</td>\n",
       "    </tr>\n",
       "    <tr>\n",
       "      <th>1449</th>\n",
       "      <td>Little Singham: Legend of Dugabakka</td>\n",
       "      <td>Children &amp; Family Movies, Comedies</td>\n",
       "      <td>NaN</td>\n",
       "      <td>NaN</td>\n",
       "      <td>As fears rise over a ghost known for nighttime abductions, Mirchi Nagar residents look to the only person they know can save them: Little Singham!</td>\n",
       "    </tr>\n",
       "    <tr>\n",
       "      <th>1419</th>\n",
       "      <td>Sugar High</td>\n",
       "      <td>Children &amp; Family Movies</td>\n",
       "      <td>Ariel Boles</td>\n",
       "      <td>Hunter March</td>\n",
       "      <td>Talented sugar artists compete for $10,000 over two rounds of competition — candy and sugar sculpture — in this \"Sugar Rush\" spinoff special.</td>\n",
       "    </tr>\n",
       "  </tbody>\n",
       "</table>\n",
       "</div>"
      ],
      "text/plain": [
       "                                    title  \\\n",
       "6082  Willy Wonka & the Chocolate Factory   \n",
       "4942             Little Singham in London   \n",
       "658    Keymon and Nani in Space Adventure   \n",
       "1449  Little Singham: Legend of Dugabakka   \n",
       "1419                           Sugar High   \n",
       "\n",
       "                                               listed_in       director  \\\n",
       "6082  Children & Family Movies, Classic Movies, Comedies     Mel Stuart   \n",
       "4942                  Children & Family Movies, Comedies  Prakash Satam   \n",
       "658                   Children & Family Movies, Comedies            NaN   \n",
       "1449                  Children & Family Movies, Comedies            NaN   \n",
       "1419                            Children & Family Movies    Ariel Boles   \n",
       "\n",
       "                                                                                                                                                   cast  \\\n",
       "6082  Gene Wilder, Jack Albertson, Peter Ostrum, Roy Kinnear, Julie Dawn Cole, Leonard Stone, Denise Nickerson, Dodo Denney, Paris Themmen, Ursula Reit   \n",
       "4942                                                                                                                                                NaN   \n",
       "658                                                                                                                                                 NaN   \n",
       "1449                                                                                                                                                NaN   \n",
       "1419                                                                                                                                       Hunter March   \n",
       "\n",
       "                                                                                                                                                   description  \n",
       "6082       Zany Willy Wonka causes a stir when he announces that golden tickets hidden inside his candy bars will admit holders into his secret confectionary.  \n",
       "4942  Little Singham is in London to meet the queen, but when the famed Kohinoor Diamond gets stolen, the kid cop goes on a wild, citywide hunt for the thief.  \n",
       "658      For Rohan and his magical pal, Keymon, a trip to visit their grandmother turns into the rescue mission of a lifetime when she is kidnapped by aliens!  \n",
       "1449        As fears rise over a ghost known for nighttime abductions, Mirchi Nagar residents look to the only person they know can save them: Little Singham!  \n",
       "1419             Talented sugar artists compete for $10,000 over two rounds of competition — candy and sugar sculpture — in this \"Sugar Rush\" spinoff special.  "
      ]
     },
     "execution_count": 27,
     "metadata": {},
     "output_type": "execute_result"
    }
   ],
   "source": [
    "get_recommendations_new('Charlie and the Chocolate Factory', 5, total_similarities)"
   ]
  },
  {
   "attachments": {},
   "cell_type": "markdown",
   "metadata": {},
   "source": [
    "#### For The Lord of the Rings"
   ]
  },
  {
   "cell_type": "code",
   "execution_count": 28,
   "metadata": {},
   "outputs": [
    {
     "data": {
      "text/html": [
       "<div>\n",
       "<style scoped>\n",
       "    .dataframe tbody tr th:only-of-type {\n",
       "        vertical-align: middle;\n",
       "    }\n",
       "\n",
       "    .dataframe tbody tr th {\n",
       "        vertical-align: top;\n",
       "    }\n",
       "\n",
       "    .dataframe thead th {\n",
       "        text-align: right;\n",
       "    }\n",
       "</style>\n",
       "<table border=\"1\" class=\"dataframe\">\n",
       "  <thead>\n",
       "    <tr style=\"text-align: right;\">\n",
       "      <th></th>\n",
       "      <th>title</th>\n",
       "      <th>listed_in</th>\n",
       "      <th>director</th>\n",
       "      <th>cast</th>\n",
       "      <th>description</th>\n",
       "    </tr>\n",
       "  </thead>\n",
       "  <tbody>\n",
       "    <tr>\n",
       "      <th>5800</th>\n",
       "      <td>The Lord of the Rings: The Return of the King</td>\n",
       "      <td>Action &amp; Adventure, Sci-Fi &amp; Fantasy</td>\n",
       "      <td>Peter Jackson</td>\n",
       "      <td>Elijah Wood, Ian McKellen, Liv Tyler, Viggo Mortensen, Sean Astin, Cate Blanchett, John Rhys-Davies, Bernard Hill, Billy Boyd, Dominic Monaghan, Orlando Bloom, Hugo Weaving</td>\n",
       "      <td>Aragorn is revealed as the heir to the ancient kings as he, Gandalf and the other members of the broken fellowship struggle to save Gondor.</td>\n",
       "    </tr>\n",
       "    <tr>\n",
       "      <th>85</th>\n",
       "      <td>Green Lantern</td>\n",
       "      <td>Action &amp; Adventure, Sci-Fi &amp; Fantasy</td>\n",
       "      <td>Martin Campbell</td>\n",
       "      <td>Ryan Reynolds, Blake Lively, Peter Sarsgaard, Mark Strong, Tim Robbins, Jay O. Sanders, Taika Waititi, Angela Bassett</td>\n",
       "      <td>Test pilot Hal Jordan harnesses glowing new powers for good when he wears an otherworldly ring and helps an intergalactic force stop a powerful threat.</td>\n",
       "    </tr>\n",
       "    <tr>\n",
       "      <th>3289</th>\n",
       "      <td>Bright</td>\n",
       "      <td>Action &amp; Adventure, Sci-Fi &amp; Fantasy</td>\n",
       "      <td>David Ayer</td>\n",
       "      <td>Will Smith, Joel Edgerton, Noomi Rapace, Lucy Fry, Edgar Ramírez, Ike Barinholtz, Brad William Henke, Enrique Murciano, Happy Anderson, Kenneth Choi, Andrea Navedo, Dawn Olivieri</td>\n",
       "      <td>In an LA rife with interspecies tensions, a human cop and his orc partner stumble on a powerful object and become embroiled in a prophesied turf war.</td>\n",
       "    </tr>\n",
       "    <tr>\n",
       "      <th>3565</th>\n",
       "      <td>Elaan</td>\n",
       "      <td>Action &amp; Adventure, Cult Movies, International Movies</td>\n",
       "      <td>K. Ramanlal</td>\n",
       "      <td>Vinod Mehra, Rekha, Vinod Khanna, Helen, Madan Puri, Brahm Bhardwaj</td>\n",
       "      <td>Journalist Naresh is hired to probe illegal activities on an island. When he's captured, a fellow prisoner gives him a ring with magic powers.</td>\n",
       "    </tr>\n",
       "    <tr>\n",
       "      <th>4747</th>\n",
       "      <td>Indiana Jones and the Kingdom of the Crystal Skull</td>\n",
       "      <td>Action &amp; Adventure, Children &amp; Family Movies, Sci-Fi &amp; Fantasy</td>\n",
       "      <td>Steven Spielberg</td>\n",
       "      <td>Harrison Ford, Cate Blanchett, Karen Allen, Ray Winstone, John Hurt, Jim Broadbent, Igor Jijikine, Shia LaBeouf</td>\n",
       "      <td>Indiana Jones is drawn into a Russian plot to unearth the Crystal Skulls of Akator, Amazonian artifacts with supernatural powers.</td>\n",
       "    </tr>\n",
       "  </tbody>\n",
       "</table>\n",
       "</div>"
      ],
      "text/plain": [
       "                                                   title  \\\n",
       "5800       The Lord of the Rings: The Return of the King   \n",
       "85                                         Green Lantern   \n",
       "3289                                              Bright   \n",
       "3565                                               Elaan   \n",
       "4747  Indiana Jones and the Kingdom of the Crystal Skull   \n",
       "\n",
       "                                                           listed_in  \\\n",
       "5800                            Action & Adventure, Sci-Fi & Fantasy   \n",
       "85                              Action & Adventure, Sci-Fi & Fantasy   \n",
       "3289                            Action & Adventure, Sci-Fi & Fantasy   \n",
       "3565           Action & Adventure, Cult Movies, International Movies   \n",
       "4747  Action & Adventure, Children & Family Movies, Sci-Fi & Fantasy   \n",
       "\n",
       "              director  \\\n",
       "5800     Peter Jackson   \n",
       "85     Martin Campbell   \n",
       "3289        David Ayer   \n",
       "3565       K. Ramanlal   \n",
       "4747  Steven Spielberg   \n",
       "\n",
       "                                                                                                                                                                                    cast  \\\n",
       "5800        Elijah Wood, Ian McKellen, Liv Tyler, Viggo Mortensen, Sean Astin, Cate Blanchett, John Rhys-Davies, Bernard Hill, Billy Boyd, Dominic Monaghan, Orlando Bloom, Hugo Weaving   \n",
       "85                                                                 Ryan Reynolds, Blake Lively, Peter Sarsgaard, Mark Strong, Tim Robbins, Jay O. Sanders, Taika Waititi, Angela Bassett   \n",
       "3289  Will Smith, Joel Edgerton, Noomi Rapace, Lucy Fry, Edgar Ramírez, Ike Barinholtz, Brad William Henke, Enrique Murciano, Happy Anderson, Kenneth Choi, Andrea Navedo, Dawn Olivieri   \n",
       "3565                                                                                                                 Vinod Mehra, Rekha, Vinod Khanna, Helen, Madan Puri, Brahm Bhardwaj   \n",
       "4747                                                                     Harrison Ford, Cate Blanchett, Karen Allen, Ray Winstone, John Hurt, Jim Broadbent, Igor Jijikine, Shia LaBeouf   \n",
       "\n",
       "                                                                                                                                                  description  \n",
       "5800              Aragorn is revealed as the heir to the ancient kings as he, Gandalf and the other members of the broken fellowship struggle to save Gondor.  \n",
       "85    Test pilot Hal Jordan harnesses glowing new powers for good when he wears an otherworldly ring and helps an intergalactic force stop a powerful threat.  \n",
       "3289    In an LA rife with interspecies tensions, a human cop and his orc partner stumble on a powerful object and become embroiled in a prophesied turf war.  \n",
       "3565           Journalist Naresh is hired to probe illegal activities on an island. When he's captured, a fellow prisoner gives him a ring with magic powers.  \n",
       "4747                        Indiana Jones is drawn into a Russian plot to unearth the Crystal Skulls of Akator, Amazonian artifacts with supernatural powers.  "
      ]
     },
     "execution_count": 28,
     "metadata": {},
     "output_type": "execute_result"
    }
   ],
   "source": [
    "get_recommendations_new('The Lord of the Rings: The Two Towers', 5, total_similarities)"
   ]
  }
 ],
 "metadata": {
  "kernelspec": {
   "display_name": "perso",
   "language": "python",
   "name": "python3"
  },
  "language_info": {
   "codemirror_mode": {
    "name": "ipython",
    "version": 3
   },
   "file_extension": ".py",
   "mimetype": "text/x-python",
   "name": "python",
   "nbconvert_exporter": "python",
   "pygments_lexer": "ipython3",
   "version": "3.9.16"
  },
  "orig_nbformat": 4
 },
 "nbformat": 4,
 "nbformat_minor": 2
}
